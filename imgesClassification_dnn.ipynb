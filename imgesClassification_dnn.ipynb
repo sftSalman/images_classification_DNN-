{
  "nbformat": 4,
  "nbformat_minor": 0,
  "metadata": {
    "colab": {
      "name": "imgesClassification_dnn.ipynb",
      "provenance": [],
      "authorship_tag": "ABX9TyNUwvWEd1cpCbbRMX8pNJUt",
      "include_colab_link": true
    },
    "kernelspec": {
      "name": "python3",
      "display_name": "Python 3"
    },
    "language_info": {
      "name": "python"
    }
  },
  "cells": [
    {
      "cell_type": "markdown",
      "metadata": {
        "id": "view-in-github",
        "colab_type": "text"
      },
      "source": [
        "<a href=\"https://colab.research.google.com/github/sftSalman/images_classification_DNN-/blob/main/imgesClassification_dnn.ipynb\" target=\"_parent\"><img src=\"https://colab.research.google.com/assets/colab-badge.svg\" alt=\"Open In Colab\"/></a>"
      ]
    },
    {
      "cell_type": "code",
      "execution_count": null,
      "metadata": {
        "id": "agLdDcfe-N3O"
      },
      "outputs": [],
      "source": [
        ""
      ]
    }
  ]
}